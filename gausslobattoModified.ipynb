{
 "metadata": {
  "language_info": {
   "codemirror_mode": {
    "name": "ipython",
    "version": 3
   },
   "file_extension": ".py",
   "mimetype": "text/x-python",
   "name": "python",
   "nbconvert_exporter": "python",
   "pygments_lexer": "ipython3",
   "version": "3.6.8-final"
  },
  "orig_nbformat": 2,
  "kernelspec": {
   "name": "python3",
   "display_name": "Python 3",
   "language": "python"
  }
 },
 "nbformat": 4,
 "nbformat_minor": 2,
 "cells": [
  {
   "cell_type": "code",
   "execution_count": 99,
   "metadata": {},
   "outputs": [],
   "source": [
    "import numpy as np\n",
    "from tqdm import tqdm\n",
    "from pymech.exadata import exadata, elem\n",
    "import pandas as pd\n",
    "import quadpy\n",
    "from pymech.neksuite import readnek\n",
    "from pymech.neksuite import writenek"
   ]
  },
  {
   "cell_type": "code",
   "execution_count": 100,
   "metadata": {},
   "outputs": [],
   "source": [
    "filename='..\\Mesh0110_1p50.f00008'\n",
    "nzplanes=10 # number of macro z planes"
   ]
  },
  {
   "cell_type": "code",
   "execution_count": 101,
   "metadata": {},
   "outputs": [],
   "source": [
    "data=readnek(filename)"
   ]
  },
  {
   "cell_type": "code",
   "execution_count": 102,
   "metadata": {},
   "outputs": [
    {
     "output_type": "execute_result",
     "data": {
      "text/plain": [
       "[9, 9, 9]"
      ]
     },
     "metadata": {},
     "execution_count": 102
    }
   ],
   "source": [
    "data.lr1"
   ]
  },
  {
   "cell_type": "code",
   "execution_count": 103,
   "metadata": {},
   "outputs": [],
   "source": [
    "nel=data.nel\n",
    "xdata=np.zeros(nel)\n",
    "ydata=np.zeros(nel)\n",
    "zdata=np.zeros(nel)\n",
    "index=np.zeros(nel,dtype=int)"
   ]
  },
  {
   "cell_type": "code",
   "execution_count": 104,
   "metadata": {},
   "outputs": [],
   "source": [
    "lr1=data.lr1\n",
    "zaveragedu=np.zeros((lr1[0],lr1[1]))\n",
    "zaveragedv=np.zeros((lr1[0],lr1[1]))\n",
    "zaveragedw=np.zeros((lr1[0],lr1[1]))\n",
    "zaveragedpres=np.zeros((lr1[0],lr1[1]))\n",
    "zaveragedtemp=np.zeros((lr1[0],lr1[1]))\n",
    "\n",
    "scheme = quadpy.c1.gauss_lobatto(data.lr1[2])\n",
    "gausslobattopoints=scheme.points\n",
    "gausslobattoweights=scheme.weights\n",
    "\n",
    "xi = gausslobattopoints\n",
    "w = gausslobattoweights\n",
    "element_number = np.arange(0,dtype=np.int32)\n",
    "le = 0"
   ]
  },
  {
   "cell_type": "code",
   "execution_count": 105,
   "metadata": {},
   "outputs": [],
   "source": [
    "for n in np.arange(nel):\n",
    "    index[n]=int(n)\n",
    "    xdata[n]=np.around((data.elem[n].pos[0,0,0,0]+data.elem[n].pos[0,0,0,lr1[0]-1])/2.0,decimals=3)\n",
    "    ydata[n]=np.around((data.elem[n].pos[1,0,0,0]+data.elem[n].pos[1,0,lr1[0]-1,0])/2.0,decimals=3)\n",
    "    zdata[n]=np.around((data.elem[n].pos[2,0,0,0]+data.elem[n].pos[2,lr1[0]-1,0,0])/2.0,decimals=3)\n",
    "\n",
    "# Put data in pandas dataframe then sort the data by x, then y then z.\n",
    "dataset = pd.DataFrame({'index': index[:],'xval': xdata[:],'yval': ydata[:], 'zval': zdata[:]})\n",
    "sorteddataset=dataset.sort_values(by=['zval','xval','yval'])\n",
    "\n",
    "nplanarelements=int(nel/nzplanes)"
   ]
  },
  {
   "cell_type": "code",
   "execution_count": 106,
   "metadata": {},
   "outputs": [
    {
     "output_type": "execute_result",
     "data": {
      "text/plain": [
       "      index    xval   yval  zval\n",
       "0         0   0.168  0.026   0.0\n",
       "1       149   0.168  0.083   0.0\n",
       "2       298   0.168  0.151   0.0\n",
       "3       447   0.168  0.230   0.0\n",
       "4       596   0.168  0.324   0.0\n",
       "...     ...     ...    ...   ...\n",
       "1932   1340  49.832  0.902   0.0\n",
       "1933   1489  49.832  1.125   0.0\n",
       "1934   1638  49.832  1.375   0.0\n",
       "1935   1787  49.832  1.625   0.0\n",
       "1936   1936  49.832  1.875   0.0\n",
       "\n",
       "[1937 rows x 4 columns]"
      ],
      "text/html": "<div>\n<style scoped>\n    .dataframe tbody tr th:only-of-type {\n        vertical-align: middle;\n    }\n\n    .dataframe tbody tr th {\n        vertical-align: top;\n    }\n\n    .dataframe thead th {\n        text-align: right;\n    }\n</style>\n<table border=\"1\" class=\"dataframe\">\n  <thead>\n    <tr style=\"text-align: right;\">\n      <th></th>\n      <th>index</th>\n      <th>xval</th>\n      <th>yval</th>\n      <th>zval</th>\n    </tr>\n  </thead>\n  <tbody>\n    <tr>\n      <th>0</th>\n      <td>0</td>\n      <td>0.168</td>\n      <td>0.026</td>\n      <td>0.0</td>\n    </tr>\n    <tr>\n      <th>1</th>\n      <td>149</td>\n      <td>0.168</td>\n      <td>0.083</td>\n      <td>0.0</td>\n    </tr>\n    <tr>\n      <th>2</th>\n      <td>298</td>\n      <td>0.168</td>\n      <td>0.151</td>\n      <td>0.0</td>\n    </tr>\n    <tr>\n      <th>3</th>\n      <td>447</td>\n      <td>0.168</td>\n      <td>0.230</td>\n      <td>0.0</td>\n    </tr>\n    <tr>\n      <th>4</th>\n      <td>596</td>\n      <td>0.168</td>\n      <td>0.324</td>\n      <td>0.0</td>\n    </tr>\n    <tr>\n      <th>...</th>\n      <td>...</td>\n      <td>...</td>\n      <td>...</td>\n      <td>...</td>\n    </tr>\n    <tr>\n      <th>1932</th>\n      <td>1340</td>\n      <td>49.832</td>\n      <td>0.902</td>\n      <td>0.0</td>\n    </tr>\n    <tr>\n      <th>1933</th>\n      <td>1489</td>\n      <td>49.832</td>\n      <td>1.125</td>\n      <td>0.0</td>\n    </tr>\n    <tr>\n      <th>1934</th>\n      <td>1638</td>\n      <td>49.832</td>\n      <td>1.375</td>\n      <td>0.0</td>\n    </tr>\n    <tr>\n      <th>1935</th>\n      <td>1787</td>\n      <td>49.832</td>\n      <td>1.625</td>\n      <td>0.0</td>\n    </tr>\n    <tr>\n      <th>1936</th>\n      <td>1936</td>\n      <td>49.832</td>\n      <td>1.875</td>\n      <td>0.0</td>\n    </tr>\n  </tbody>\n</table>\n<p>1937 rows × 4 columns</p>\n</div>"
     },
     "metadata": {},
     "execution_count": 106
    }
   ],
   "source": [
    "df2d = sorteddataset.iloc[0:nplanarelements]\n",
    "df2d['zval'] = df2d['zval'].replace(0.075,0.0)\n",
    "df2d.reset_index(drop=True, inplace=True)\n",
    "df2d"
   ]
  },
  {
   "cell_type": "code",
   "execution_count": 107,
   "metadata": {},
   "outputs": [],
   "source": [
    "new_2d_data = exadata(2, nplanarelements, [lr1[0],lr1[1],1], [2,2,1,1,2], data.nbc)\n",
    "#new_2d_data = exadata(2, nplanarelements, [1,1,1], [2,2,1,1,2], data.nbc)"
   ]
  },
  {
   "cell_type": "code",
   "execution_count": 108,
   "metadata": {},
   "outputs": [
    {
     "output_type": "execute_result",
     "data": {
      "text/plain": [
       "array([[[[0., 0., 0., 0., 0., 0., 0., 0., 0.],\n",
       "         [0., 0., 0., 0., 0., 0., 0., 0., 0.],\n",
       "         [0., 0., 0., 0., 0., 0., 0., 0., 0.],\n",
       "         [0., 0., 0., 0., 0., 0., 0., 0., 0.],\n",
       "         [0., 0., 0., 0., 0., 0., 0., 0., 0.],\n",
       "         [0., 0., 0., 0., 0., 0., 0., 0., 0.],\n",
       "         [0., 0., 0., 0., 0., 0., 0., 0., 0.],\n",
       "         [0., 0., 0., 0., 0., 0., 0., 0., 0.],\n",
       "         [0., 0., 0., 0., 0., 0., 0., 0., 0.]]],\n",
       "\n",
       "\n",
       "       [[[0., 0., 0., 0., 0., 0., 0., 0., 0.],\n",
       "         [0., 0., 0., 0., 0., 0., 0., 0., 0.],\n",
       "         [0., 0., 0., 0., 0., 0., 0., 0., 0.],\n",
       "         [0., 0., 0., 0., 0., 0., 0., 0., 0.],\n",
       "         [0., 0., 0., 0., 0., 0., 0., 0., 0.],\n",
       "         [0., 0., 0., 0., 0., 0., 0., 0., 0.],\n",
       "         [0., 0., 0., 0., 0., 0., 0., 0., 0.],\n",
       "         [0., 0., 0., 0., 0., 0., 0., 0., 0.],\n",
       "         [0., 0., 0., 0., 0., 0., 0., 0., 0.]]],\n",
       "\n",
       "\n",
       "       [[[0., 0., 0., 0., 0., 0., 0., 0., 0.],\n",
       "         [0., 0., 0., 0., 0., 0., 0., 0., 0.],\n",
       "         [0., 0., 0., 0., 0., 0., 0., 0., 0.],\n",
       "         [0., 0., 0., 0., 0., 0., 0., 0., 0.],\n",
       "         [0., 0., 0., 0., 0., 0., 0., 0., 0.],\n",
       "         [0., 0., 0., 0., 0., 0., 0., 0., 0.],\n",
       "         [0., 0., 0., 0., 0., 0., 0., 0., 0.],\n",
       "         [0., 0., 0., 0., 0., 0., 0., 0., 0.],\n",
       "         [0., 0., 0., 0., 0., 0., 0., 0., 0.]]]])"
      ]
     },
     "metadata": {},
     "execution_count": 108
    }
   ],
   "source": [
    "df2d.loc[1,'xval']\n",
    "new_2d_data.elem[0].pos#.shape\n",
    "#np.array(df2d['xval'].iloc[m])"
   ]
  },
  {
   "cell_type": "code",
   "execution_count": 110,
   "metadata": {},
   "outputs": [],
   "source": [
    "for m in np.arange(nplanarelements):\n",
    "    zaveragedu[:,:]=0.0\n",
    "    zaveragedv[:,:]=0.0\n",
    "    zaveragedw[:,:]=0.0\n",
    "    zaveragedpres[:,:]=0.0\n",
    "    zaveragedtemp[:,:]=0.0\n",
    "    totallengthofz=0.0\n",
    "\n",
    "    for n in np.arange(nzplanes):\n",
    "        i=sorteddataset['index'].iloc[m*nzplanes+n]\n",
    "        a=data.elem[i].pos[2,0,0,0]\n",
    "        b=data.elem[i].pos[2,data.lr1[2]-1,0,0]\n",
    "        z=((b-a)/2.0)*xi+(a+b)/2.0\n",
    "        wprime=w*((b-a)/2.0)\n",
    "\n",
    "        tempu = np.sum(data.elem[i].vel[0,:,:,:]*wprime[:,np.newaxis,np.newaxis],axis=0)\n",
    "        totallengthofz += np.sum(wprime)\n",
    "        zaveragedu += tempu\n",
    "\n",
    "        tempv = np.sum(data.elem[i].vel[1,:,:,:]*wprime[:,np.newaxis,np.newaxis],axis=0)\n",
    "        zaveragedv += tempv\n",
    "\n",
    "        tempw = np.sum(data.elem[i].vel[2,:,:,:]*wprime[:,np.newaxis,np.newaxis],axis=0)\n",
    "        zaveragedw += tempw\n",
    "\n",
    "        temppres = np.sum(data.elem[i].pres[0,:,:,:]*wprime[:,np.newaxis,np.newaxis],axis=0)\n",
    "        zaveragedpres += temppres\n",
    "\n",
    "        temptemp = np.sum(data.elem[i].temp[0,:,:,:]*wprime[:,np.newaxis,np.newaxis],axis=0)\n",
    "        zaveragedtemp += temptemp\n",
    "\n",
    "    zaveragedu /= totallengthofz\n",
    "    zaveragedv /= totallengthofz\n",
    "    zaveragedw /= totallengthofz\n",
    "    zaveragedpres /= totallengthofz\n",
    "    zaveragedtemp /= totallengthofz\n",
    "\n",
    "    new_2d_data.elem[m].pos[0,:,:]=np.array(df2d['xval'].iloc[m])#.to_numpy()\n",
    "    new_2d_data.elem[m].pos[1,:,:]=np.array(df2d['yval'].iloc[m])#.to_numpy()\n",
    "    new_2d_data.elem[m].pos[2,:,:]=np.array(df2d['zval'].iloc[m])#.to_numpy()\n",
    "    new_2d_data.elem[m].vel[0,:,:,:]=zaveragedu\n",
    "    new_2d_data.elem[m].vel[1,:,:,:]=zaveragedv\n",
    "    new_2d_data.elem[m].vel[2,:,:,:]=zaveragedw\n",
    "    new_2d_data.elem[m].pres[0,:,:,:]=zaveragedpres\n",
    "    new_2d_data.elem[m].temp[0,:,:,:]=zaveragedtemp\n",
    "    # for n in np.arange(nzplanes):\n",
    "    #     i=sorteddataset['index'].iloc[m*nzplanes+n]\n",
    "    #     data.elem[i].vel[0,:,:,:]=zaveragedu\n",
    "    #     data.elem[i].vel[1,:,:,:]=zaveragedv\n",
    "    #     data.elem[i].vel[2,:,:,:]=zaveragedw\n",
    "    #     data.elem[i].pres[0,:,:,:]=zaveragedpres\n",
    "    #     data.elem[i].temp[0,:,:,:]=zaveragedtemp\n"
   ]
  },
  {
   "cell_type": "code",
   "execution_count": 111,
   "metadata": {},
   "outputs": [
    {
     "output_type": "execute_result",
     "data": {
      "text/plain": [
       "(1, 9, 9)"
      ]
     },
     "metadata": {},
     "execution_count": 111
    }
   ],
   "source": [
    "new_2d_data.elem[0].pos[0,:,:].shape\n",
    "#np.array(df2d['xval'].iloc[0])"
   ]
  },
  {
   "cell_type": "code",
   "execution_count": 72,
   "metadata": {},
   "outputs": [
    {
     "output_type": "execute_result",
     "data": {
      "text/plain": [
       "(3, 1, 9, 9)"
      ]
     },
     "metadata": {},
     "execution_count": 72
    }
   ],
   "source": [
    "new_2d_data.elem[0].pos.shape"
   ]
  },
  {
   "cell_type": "code",
   "execution_count": 73,
   "metadata": {},
   "outputs": [
    {
     "output_type": "error",
     "ename": "TypeError",
     "evalue": "%i format: a number is required, not list",
     "traceback": [
      "\u001b[1;31m---------------------------------------------------------------------------\u001b[0m",
      "\u001b[1;31mTypeError\u001b[0m                                 Traceback (most recent call last)",
      "\u001b[1;32m<ipython-input-73-225bfec68367>\u001b[0m in \u001b[0;36m<module>\u001b[1;34m\u001b[0m\n\u001b[1;32m----> 1\u001b[1;33m \u001b[0mwritenek\u001b[0m\u001b[1;33m(\u001b[0m\u001b[1;34m'..\\spanwiseavgMesh0110_1p50.f00008'\u001b[0m\u001b[1;33m,\u001b[0m\u001b[0mnew_2d_data\u001b[0m\u001b[1;33m)\u001b[0m\u001b[1;33m\u001b[0m\u001b[1;33m\u001b[0m\u001b[0m\n\u001b[0m",
      "\u001b[1;32mC:\\Users\\HP OMEN 15\\AppData\\Local\\Programs\\Python\\Python36\\lib\\site-packages\\pymech\\neksuite.py\u001b[0m in \u001b[0;36mwritenek\u001b[1;34m(fname, data)\u001b[0m\n\u001b[0;32m    229\u001b[0m                 \u001b[0mlogger\u001b[0m\u001b[1;33m.\u001b[0m\u001b[0mdebug\u001b[0m\u001b[1;33m(\u001b[0m\u001b[1;34m'Writing double-precision file'\u001b[0m\u001b[1;33m)\u001b[0m\u001b[1;33m\u001b[0m\u001b[1;33m\u001b[0m\u001b[0m\n\u001b[0;32m    230\u001b[0m         \u001b[1;32melse\u001b[0m\u001b[1;33m:\u001b[0m\u001b[1;33m\u001b[0m\u001b[1;33m\u001b[0m\u001b[0m\n\u001b[1;32m--> 231\u001b[1;33m                 \u001b[0mlogger\u001b[0m\u001b[1;33m.\u001b[0m\u001b[0merror\u001b[0m\u001b[1;33m(\u001b[0m\u001b[1;34m'Could not interpret real type (wdsz = %i)'\u001b[0m \u001b[1;33m%\u001b[0m \u001b[1;33m(\u001b[0m\u001b[0mdata\u001b[0m\u001b[1;33m.\u001b[0m\u001b[0mwdsz\u001b[0m\u001b[1;33m)\u001b[0m\u001b[1;33m)\u001b[0m\u001b[1;33m\u001b[0m\u001b[1;33m\u001b[0m\u001b[0m\n\u001b[0m\u001b[0;32m    232\u001b[0m                 \u001b[1;32mreturn\u001b[0m \u001b[1;33m-\u001b[0m\u001b[1;36m2\u001b[0m\u001b[1;33m\u001b[0m\u001b[1;33m\u001b[0m\u001b[0m\n\u001b[0;32m    233\u001b[0m         \u001b[1;31m#\u001b[0m\u001b[1;33m\u001b[0m\u001b[1;33m\u001b[0m\u001b[1;33m\u001b[0m\u001b[0m\n",
      "\u001b[1;31mTypeError\u001b[0m: %i format: a number is required, not list"
     ]
    }
   ],
   "source": [
    "writenek('..\\spanwiseavgMesh0110_1p50.f00008',new_2d_data)"
   ]
  },
  {
   "source": [
    "# Checking if new file is 2D"
   ],
   "cell_type": "markdown",
   "metadata": {}
  },
  {
   "cell_type": "code",
   "execution_count": 22,
   "metadata": {},
   "outputs": [
    {
     "output_type": "execute_result",
     "data": {
      "text/plain": [
       "3"
      ]
     },
     "metadata": {},
     "execution_count": 22
    }
   ],
   "source": [
    "written_data = readnek('..\\spanwiseavgMesh0110_1p50.f00008')\n",
    "written_data.ndim"
   ]
  },
  {
   "cell_type": "code",
   "execution_count": null,
   "metadata": {},
   "outputs": [],
   "source": []
  }
 ]
}